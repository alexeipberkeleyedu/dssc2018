{
 "cells": [
  {
   "cell_type": "code",
   "execution_count": null,
   "metadata": {
    "collapsed": true
   },
   "outputs": [],
   "source": [
    "%matplotlib inline\n",
    "from datascience import *\n",
    "import numpy as np\n",
    "import matplotlib.pyplot as plt"
   ]
  },
  {
   "cell_type": "markdown",
   "metadata": {},
   "source": [
    "## A look at CA energy data\n",
    "In California, energy and environmental policy initiatives are driving electric grid changes. Key initiatives\n",
    "include the following:\n",
    "<li>33 percent of retail electricity from renewable power by 2020, and 50% renewable by 2030; <li>greenhouse gas emissions reduction goal to 1990 levels by 2020;<li>regulations in the next 4-9 years requiring power plants that use coastal water for cooling to either repower, retrofit or retire; <li>policies to increase distributed generation; and <li>an executive order for 1.5 million zero emission vehicles by 2025.\n",
    "\n",
    "Sources: https://www.caiso.com/Documents/FlexibleResourcesHelpRenewables_FastFacts.pdf\n",
    "    http://www.energy.ca.gov/renewables/tracking_progress/documents/renewable.pdf\n",
    "\n",
    "These initiatives are great, but can provide some real challenges when it comes to implementation. Why?\n",
    "1. For the grid to function correctly, the energy supplied must exactly equal the energy demand at all times. If energy generation does not equal demand, the grid can have failures and blackouts. \n",
    "2. Over generation is as bad as under generation. \n",
    "3. The grid does not deal well with large/rapid fluctuations in energy usage\n",
    "\n",
    "Accurate predictions of demand and prediction of generation from renewable sources is crucial to stabilizing the grid. We have provided data on hourly energy demand for the state of California as well as solar and wind energy generation for the state for the month of March 2016 from [CA ISO](http://oasis.caiso.com/). We have also provided Electric Vehicle (EV) charging data. The EV_sim table includes a week of simulated EV charging data from 2,220 EVs. \n",
    "\n",
    "In this minilab we will explore the energy and EV datasets, and will explore some of the challenges with reaching the initiatives.\n"
   ]
  },
  {
   "cell_type": "code",
   "execution_count": null,
   "metadata": {},
   "outputs": [],
   "source": [
    "ca_energy_demand = Table.read_table('March2016_CA_energy_demand.csv')\n",
    "solar = Table.read_table('March2016_CA_gen_solar.csv')\n",
    "wind = Table.read_table('March2016_CA_gen_wind.csv')\n",
    "EV_sim = Table.read_table('EV_charge_data.csv')"
   ]
  },
  {
   "cell_type": "markdown",
   "metadata": {},
   "source": [
    "## Part 1 - visualizing a week of data\n",
    "**Tasks:**\n",
    "<li> Plot energy demand ('MWh') vs. 'INDEX' for the first week of March (hint you can use tables.take() to take only certain rows) <li> Plot solar energy generation ('MWh') vs. 'INDEX' for the first week of March  <li> Plot wind energy generation ('MWh') vs. 'INDEX' for the first week of March <li> Plot the week of EV data.\n",
    "\n",
    "**Questions:** \n",
    "<li> What's the min/max energy used per hour in this week? <li> Is more energy used on weekends or weekdays? <li> What's the min/max solar power produced per hour in this week? <li> Which day appears to be least sunny? What's the max solar power produced on this day? <li> What's the min/max wind power produced per hour in this week? <li> What is the maximum power used per hour for charging the 2,220 EVs? <li> What is the average weekly energy requirement per car? Remember that the EV_sim table is aggregating 2,220 EV users. <li> How does this compare to the average energy consumption of other appliances, say a fridge for example? (you probably have to look this up) "
   ]
  },
  {
   "cell_type": "code",
   "execution_count": null,
   "metadata": {},
   "outputs": [],
   "source": [
    "# Your code here\n",
    "\n",
    "# Answer key:\n",
    "ca_energy_demand.take(range(24*7)).plot('INDEX', 'MWh')\n",
    "solar.take(range(24*7)).plot('INDEX', 'MWh')\n",
    "wind.take(range(24*7)).plot('INDEX', 'MWh')\n",
    "\n",
    "EV_sim.plot('INDEX', 'kWh')\n",
    "week_kwh = np.sum(EV_sim.column('kWh'))/2220\n",
    "\n",
    "week_kw = week_kwh/(24*7)\n",
    "print ('{0:.2f} kWh used in a week. {1:.2f} kWh ~ average appliance turned on for 1 hour?'.format(week_kwh, week_kw))"
   ]
  },
  {
   "cell_type": "code",
   "execution_count": null,
   "metadata": {
    "collapsed": true
   },
   "outputs": [],
   "source": [
    "# Answer questions here!\n",
    "# Is more energy used on weekends or weekdays?\n",
    "# weekdays\n",
    "# What's the min/max solar power produced per hour in this week?\n",
    "# 0,5000\n",
    "# Which day appears to be least sunny? What's the max solar power produced on this day?\n",
    "# Saturday, 2600\n",
    "# What's the min/max wind power produced per hour in this week?\n",
    "# 30, 2600\n",
    "# What is the maximum power used per hour for charging the 2,220 EVs?\n",
    "# 1700 kWs.\n",
    "# What is the average weekly energy requirement per car? Remember that the EV_sim table is aggregating 2,220 EV users.\n",
    "# On average 41.37 kWh used in a week. 0.25 kW = average power\n",
    "# How does this compare to the average power consumption of other appliances, \n",
    "# say a fridge for example? (you probably have to look this up)\n",
    "# New Fridge = 34.5 kWh per month. EV uses about 4-5 times as much as a new fridge. Similar to an old fridge."
   ]
  },
  {
   "cell_type": "markdown",
   "metadata": {},
   "source": [
    "## Plot mean hourly solar and wind energy generation, mean hourly energy demand, and mean hourly EV energy demand\n",
    "**Tasks**<li> For each of solar, wind, and ca_energy_demand, **group** by hour and save the average energy consumption/generation per hour (np.mean). Save the results as solar_avg_byhour, wind_avg_by_hour, and demand_avg_byhour. <li> Plot the average energy wind generation, solar generation, and consumption vs. hour for the month of March. <li>For the simulted EV data group by hour and plot average charging power required **per vehicle** per hour over a typical day. Remember that there are 2,220 EVs in the data set.\n",
    "\n",
    "**Questions:**<li> What hour of the day has the peak EV charging demand? "
   ]
  },
  {
   "cell_type": "code",
   "execution_count": null,
   "metadata": {},
   "outputs": [],
   "source": [
    "#Your code here\n",
    "\n",
    "#Answer key\n",
    "solar_avg_byhour = solar.group('OPR_HR',np.mean)\n",
    "solar_avg_byhour.plot('OPR_HR', 'MWh mean')\n",
    "\n",
    "wind_avg_byhour = wind.group('OPR_HR',np.mean)\n",
    "wind_avg_byhour.plot('OPR_HR', 'MWh mean')\n",
    "\n",
    "demand_avg_byhour = ca_energy_demand.group('OPR_HR',np.mean)\n",
    "demand_avg_byhour.plot('OPR_HR', 'MWh mean')\n",
    "\n",
    "EV_sim = EV_sim.with_column('kWh per veh',EV_sim.column('kWh')/2220)\n",
    "EV_avg_byhour = EV_sim.group('hour', np.mean)\n",
    "EV_avg_byhour.plot('hour', 'kWh per veh mean')"
   ]
  },
  {
   "cell_type": "markdown",
   "metadata": {},
   "source": [
    "## Plot the standard deviation of hourly energy generation and hourly energy demand\n",
    "\n",
    "**Tasks** <li> Again group by hour, but now save the standard deviation MW. Save results as solar_std_byhour, wind_std_byhour, and demand_std_byhour. <li> Plot the standard deviation of wind generation, solar generation, and consumption vs. hour for the month of March. <li> Plot the standard deviation of EV charging power by hour.\n",
    "\n",
    "**Question:** <li> Which source - wind or solar, has more variation?\n"
   ]
  },
  {
   "cell_type": "code",
   "execution_count": null,
   "metadata": {},
   "outputs": [],
   "source": [
    "# Your code here\n",
    "\n",
    "solar_std_byhour = solar.group('OPR_HR',np.std)\n",
    "solar_std_byhour.plot('OPR_HR', 'MWh std')\n",
    "\n",
    "wind_std_byhour = wind.group('OPR_HR',np.std)\n",
    "wind_std_byhour.plot('OPR_HR', 'MWh std')\n",
    "\n",
    "demand_std_byhour = ca_energy_demand.group('OPR_HR',np.std)\n",
    "demand_std_byhour.plot('OPR_HR', 'MWh std')\n",
    "\n",
    "EV_std_byhour = EV_sim.group('hour', np.std)\n",
    "EV_std_byhour.plot('hour', 'kWh per veh std')"
   ]
  },
  {
   "cell_type": "markdown",
   "metadata": {},
   "source": [
    "## Mean +/- standard deviation\n",
    "**Task**\n",
    "1. Plot mean +/- standard devation per hour. (note you will have to use plt.plot to plot both + std and - std in the same graph). Plot solar, wind, and demand each in their own window. Use plt.figure() to creates a new plot window. "
   ]
  },
  {
   "cell_type": "code",
   "execution_count": null,
   "metadata": {},
   "outputs": [],
   "source": [
    "# Your code here\n",
    "\n",
    "# Answer key\n",
    "plt.plot(solar_avg_byhour['MWh mean']+solar_std_byhour['MWh std'])\n",
    "plt.plot(solar_avg_byhour['MWh mean']-solar_std_byhour['MWh std'])\n",
    "\n",
    "plt.figure()\n",
    "plt.plot(wind_avg_byhour['MWh mean']+wind_std_byhour['MWh std'])\n",
    "plt.plot(wind_avg_byhour['MWh mean']-wind_std_byhour['MWh std'])\n",
    "\n",
    "plt.figure()\n",
    "plt.plot(demand_avg_byhour['MWh mean']+demand_std_byhour['MWh std'])\n",
    "plt.plot(demand_avg_byhour['MWh mean']-demand_std_byhour['MWh std'])\n",
    "\n",
    "plt.figure()\n",
    "plt.plot(EV_avg_byhour['kWh per veh mean']+EV_std_byhour['kWh per veh std'])\n",
    "plt.plot(EV_avg_byhour['kWh per veh mean']-EV_std_byhour['kWh per veh std'])"
   ]
  },
  {
   "cell_type": "markdown",
   "metadata": {},
   "source": [
    "## CA energy goals\n",
    "As mentioned above, CA has a goal of producing 33% renewables by 2020.\n",
    "**Questions:** \n",
    "<li> How are we doing on this goal - how much of our grid's energy came from renewable sources for March 2016?<li> What percentage of renewables comes from wind? what percentage from solar?"
   ]
  },
  {
   "cell_type": "code",
   "execution_count": null,
   "metadata": {},
   "outputs": [],
   "source": [
    "# your code/answer here\n",
    "\n",
    "\n",
    "# Answer key:\n",
    "percent_renewable = sum(solar.column('MWh')+wind.column('MWh'))/sum(ca_energy_demand.column('MWh'))*100\n",
    "#0.1257 = percent renewable\n",
    "\n",
    "percent_solar = sum(solar.column('MWh'))/sum(solar.column('MWh')+wind.column('MWh'))*100\n",
    "percent_wind = sum(wind.column('MWh'))/sum(solar.column('MWh')+wind.column('MWh'))*100\n",
    "print ('{0:.2f} percent of energy from March 2016 was generated by renewables.'.format(percent_renewable))\n",
    "print ('{0:.2f} percent of this was from wind, and {1:.2f} percent was from solar.'.format(percent_solar,percent_wind))"
   ]
  },
  {
   "cell_type": "markdown",
   "metadata": {},
   "source": [
    "## Energy from non-renewable sources:\n",
    "**Tasks**<li> Add a column to demand_avg_by_hour called 'non-renewable MWh' that contains the average hourly MWh that is not satisfied by renewables. <li> Plot the average non-renewable energy requirement vs. hour. \n",
    "\n",
    "**Questions** <li> Brifly describe the trend - what hour is the peak, what hour is the minimum, is it relatively flat? <li> Given that the grid does not handle large/rapid fluctuations in energy, do you think reaching the 2020 energy predictions might be problematic? Explain."
   ]
  },
  {
   "cell_type": "code",
   "execution_count": null,
   "metadata": {},
   "outputs": [],
   "source": [
    "# Your code here\n",
    "\n",
    "# Answer key \n",
    "\n",
    "non_renewables = (demand_avg_byhour.column('MWh mean')-\n",
    "                  solar_avg_byhour.column('MWh mean')-\n",
    "                  wind_avg_byhour.column('MWh mean'))\n",
    "demand_avg_byhour = demand_avg_byhour.with_column('non-renewable MWh',non_renewables)\n",
    "demand_avg_byhour.plot('OPR_HR','non-renewable MWh')"
   ]
  },
  {
   "cell_type": "code",
   "execution_count": null,
   "metadata": {
    "collapsed": true
   },
   "outputs": [],
   "source": [
    "# Answer questions here."
   ]
  },
  {
   "cell_type": "markdown",
   "metadata": {},
   "source": [
    "# PART 2\n",
    "## Forecasting EV demand\n",
    "As mentioned above, CA has a goal of 1.5 million EVs on the road by 2025.\n",
    "\n",
    "**Tasks:** <li> Create a column in the EV_avg_byhour table called 'MW 2025' containing the hourly demand if we have 1.5 million EVs in CA instead of the 2,220 that are shown in the table. Be careful with units. <li> Plot the 2025 EV demand. <li> Add a new column to the the demand_avg_byhour table called 'MW 2025' where you add the 1.5 million EV charging power consumption to today's demand. <li> Plot the total 2025 demand vs. hour of the day, where 2025 demand = today's demand + 2025 EV demand.\n"
   ]
  },
  {
   "cell_type": "code",
   "execution_count": null,
   "metadata": {},
   "outputs": [],
   "source": [
    "# your code\n",
    "\n",
    "# Answer key:\n",
    "EV_avg_byhour = EV_avg_byhour.with_column('MWh 2025', EV_avg_byhour['kWh per veh mean']*1.5e6/1e3)\n",
    "EV_avg_byhour.plot('hour','MWh 2025')\n",
    "demand_avg_byhour = demand_avg_byhour.with_column('MWh 2025', demand_avg_byhour['MWh mean'] + EV_avg_byhour['MWh 2025'])\n",
    "\n",
    "demand_avg_byhour.plot('OPR_HR', 'MWh 2025')\n"
   ]
  },
  {
   "cell_type": "markdown",
   "metadata": {},
   "source": [
    "## Forecasting renewable generation\n",
    "CA also has a goal of 33% renewable energy by 2020 and 50% by 2030. Above we discovered that for March 2016 12.5% of energy in CA came from renewables.\n",
    "\n",
    "**Task:**<li>Let's say that to reach these goals we expect to have 40% renewable energy in 2025. If we keep the same proportion of wind and solar that exists today, by what percentage would we have to scale up the wind and solar generation from what it is today to achieve 40% renewable in 2025? <li>In the wind and solar tables, create columns called 'MW 2025' containing the hourly generation in 2025 if we multiply 'MW' by the scale factor found in the previous question.  \n"
   ]
  },
  {
   "cell_type": "code",
   "execution_count": null,
   "metadata": {},
   "outputs": [],
   "source": [
    "# Your code here\n",
    "\n",
    "#Answer key\n",
    "scale_factor = 40/12.5\n",
    "wind_avg_byhour = wind_avg_byhour.with_column('MWh 2025', wind_avg_byhour.column('MWh mean')*scale_factor)\n",
    "solar_avg_byhour = solar_avg_byhour.with_column('MWh 2025', solar_avg_byhour.column('MWh mean')*scale_factor)"
   ]
  },
  {
   "cell_type": "markdown",
   "metadata": {},
   "source": [
    "## 2025 Energy from non-renewable sources:\n",
    "**Tasks**<li> Add a column to demand_avg_by_hour called '2025 non-renewable MW' that contains the average hourly MW demand in 2025 that will not satisfied by our 2025 renewable predictions. <li> Plot the average non-renewable energy requirement vs. hour. \n",
    "\n",
    "**Questions** <li> One strategy that has been discussed as a strategy to eliminate the rapid fluctuations in demand on the grid is installing workstation charging stations and encouraging midday charging. After examining the plot of 2025 non-renewable demand, discuss why midday EV charging could help."
   ]
  },
  {
   "cell_type": "code",
   "execution_count": null,
   "metadata": {},
   "outputs": [],
   "source": [
    "# Your code here\n",
    "#Answer key\n",
    "demand_avg_byhour['2025 non-renewable MWh']=(demand_avg_byhour['MWh 2025']-solar_avg_byhour['MWh 2025']-wind_avg_byhour['MWh 2025'])\n",
    "demand_avg_byhour.plot('OPR_HR','2025 non-renewable MWh')\n"
   ]
  },
  {
   "cell_type": "code",
   "execution_count": null,
   "metadata": {
    "collapsed": true
   },
   "outputs": [],
   "source": [
    "# Answer questions here.\n",
    "\n"
   ]
  }
 ],
 "metadata": {
  "kernelspec": {
   "display_name": "Python 3",
   "language": "python",
   "name": "python3"
  },
  "language_info": {
   "codemirror_mode": {
    "name": "ipython",
    "version": 3
   },
   "file_extension": ".py",
   "mimetype": "text/x-python",
   "name": "python",
   "nbconvert_exporter": "python",
   "pygments_lexer": "ipython3",
   "version": "3.6.2"
  }
 },
 "nbformat": 4,
 "nbformat_minor": 1
}
