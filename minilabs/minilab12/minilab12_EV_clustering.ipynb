{
 "cells": [
  {
   "cell_type": "code",
   "execution_count": null,
   "metadata": {
    "collapsed": true
   },
   "outputs": [],
   "source": [
    "from datascience import *\n",
    "import numpy as np\n",
    "import pandas as pd\n",
    "\n",
    "import matplotlib.pyplot as plt\n",
    "import matplotlib.colors as colors\n",
    "import matplotlib.cm as cmx\n",
    "\n",
    "from sklearn.cluster import KMeans\n",
    "from sklearn.datasets import make_blobs\n",
    "\n",
    "%matplotlib inline\n",
    "import warnings\n",
    "warnings.filterwarnings(\"ignore\")"
   ]
  },
  {
   "cell_type": "markdown",
   "metadata": {},
   "source": [
    "### N.B. You will have to have scikit-learn installed to run this minilab."
   ]
  },
  {
   "cell_type": "markdown",
   "metadata": {},
   "source": [
    "# Introduction to Clustering\n",
    "[Scikit-learn](http://scikit-learn.org/stable/) is a python package that can help you to do more advanced predictive and exploratory analysis with data. Today we are going to learn about a [clustering method](http://scikit-learn.org/stable/modules/clustering.html#k-means) used for systematically grouping similar datapoints."
   ]
  },
  {
   "cell_type": "code",
   "execution_count": null,
   "metadata": {},
   "outputs": [],
   "source": [
    "plt.figure(figsize=(12, 12))\n",
    "\n",
    "n_samples = 1500\n",
    "n_blobs = 7\n",
    "\n",
    "random_state = 33\n",
    "\n",
    "\n",
    "X, y = make_blobs(n_samples=n_samples, centers=n_blobs, random_state=random_state)\n",
    "\n",
    "plt.subplot(221)\n",
    "plt.scatter(X[:, 0], X[:, 1], c=np.ones(n_samples))\n",
    "plt.title(\"Data\")\n",
    "\n",
    "\n",
    "# Number of clusters\n",
    "y_pred = KMeans(n_clusters=n_blobs, random_state=random_state).fit_predict(X)\n",
    "\n",
    "plt.subplot(222)\n",
    "plt.scatter(X[:, 0], X[:, 1], c=y_pred)\n",
    "plt.title(\"Correct number of clusters\")\n",
    "\n",
    "\n",
    "y_pred = KMeans(n_clusters=3, random_state=random_state).fit_predict(X)\n",
    "\n",
    "plt.subplot(223)\n",
    "plt.scatter(X[:, 0], X[:, 1], c=y_pred)\n",
    "plt.title(\"Wrong number of clusters: too few\")\n",
    "\n",
    "\n",
    "y_pred = KMeans(n_clusters=8, random_state=random_state).fit_predict(X)\n",
    "\n",
    "plt.subplot(224)\n",
    "plt.scatter(X[:, 0], X[:, 1], c=y_pred)\n",
    "plt.title(\"Wrong number of clusters: too many\")"
   ]
  },
  {
   "cell_type": "markdown",
   "metadata": {},
   "source": [
    "# Clustering EV users with similar driving and charging patterns\n",
    "\n",
    "## About the dataset\n",
    "'EV_soc.csv' contains data on the state of charge (SOC), meaning the % battery remaining, for 1023 Electric Vehicles (EVs). The dataset has the SOC for each car for every 5 minute interval in the day. The driver column indicates the driver id, the day indicates the day of the week, where 1=Sunday. The ##_soc columns each correspond to a 5-min interval of the day.\n",
    "\n",
    "In this lab we will see how we can use clustering to identify drivers with similar driving and charging habits.\n"
   ]
  },
  {
   "cell_type": "code",
   "execution_count": null,
   "metadata": {},
   "outputs": [],
   "source": [
    "soc = Table.read_table('EV_soc.csv')\n",
    "soc"
   ]
  },
  {
   "cell_type": "markdown",
   "metadata": {},
   "source": [
    "# Clustering EVs with similar Tuesday Charging Habits\n",
    "\n",
    "In the following section I grabbed the SOC data where day=3 (Tuesday). The Scikit-learn K-means package does all of the heavy lifting for us, and finds ways to group similar drivers that have the most similar SOC data throughout the day.  I found 5 clusters works well to identify unique driving/charging habbits.\n",
    "\n",
    "The rolling_window=6 parameter is used to compute the rolling average over a half hour timespan, rather than considering each 5 min interval independently. \n",
    "\n"
   ]
  },
  {
   "cell_type": "code",
   "execution_count": null,
   "metadata": {},
   "outputs": [],
   "source": [
    "n_clusters = 5\n",
    "rolling_window = 6\n",
    "soc_tuesday = soc.where('day',3)\n",
    "\n",
    "#get color map array\n",
    "jet = cm = plt.get_cmap('jet') \n",
    "cNorm  = colors.Normalize(vmin=0, vmax=n_clusters-1)\n",
    "scalarMap = cmx.ScalarMappable(norm=cNorm, cmap=jet)\n",
    "colorVals = [scalarMap.to_rgba(i) for i in range(n_clusters)]\n",
    "\n",
    "\n",
    "X = soc_tuesday.drop(['driver','day']).to_df()\n",
    "X_rolling = X.T.rolling(window=rolling_window).mean()[rolling_window-1::].T\n",
    "\n",
    "estimator = KMeans(n_clusters=n_clusters)\n",
    "estimator.fit(X_rolling)\n",
    "\n",
    "    \n",
    "for i in range(n_clusters):\n",
    "    x_ticks = np.arange(rolling_window-1,289)/12.\n",
    "    plt.figure()\n",
    "    data = X_rolling[estimator.labels_==i]\n",
    "    n = len(data)\n",
    "    for j in range(data.shape[0]):\n",
    "        plt.plot(x_ticks,data.T[data.index[j]], color=colorVals[i], alpha=.05)\n",
    "    plt.plot(x_ticks,np.mean(data), color=colorVals[i], linewidth=2)\n",
    "    \n",
    "    plt.xlabel('Hour')\n",
    "    plt.ylabel('State of charge')\n",
    "    plt.ylim(0,1.2)\n",
    "    plt.title('State of charge per EV')\n",
    "    textstr = 'N = %i, %.1f%% of vehicles'%(n,float(n*100/len(X_rolling)))\n",
    "    plt.text(7, 1.1, textstr, fontsize=10,verticalalignment='top')\n",
    "\n"
   ]
  },
  {
   "cell_type": "markdown",
   "metadata": {},
   "source": [
    "# Overlaying the clusters and plotting the derivatives\n"
   ]
  },
  {
   "cell_type": "code",
   "execution_count": null,
   "metadata": {},
   "outputs": [],
   "source": [
    "def get_slope(y, x):\n",
    "    dys = y[1:]-y[:-1]\n",
    "    dxs = x[1:]-x[:-1]\n",
    "    return dys/dxs\n"
   ]
  },
  {
   "cell_type": "code",
   "execution_count": null,
   "metadata": {},
   "outputs": [],
   "source": [
    "plt.figure(figsize = (8,8))\n",
    "for i in range(100):\n",
    "    plt.plot(x_ticks, X_rolling.T[i], color = colorVals[estimator.labels_[i]], alpha=.1)\n",
    "    \n",
    "for i in range(n_clusters):\n",
    "    plt.plot(x_ticks, np.mean(X_rolling[estimator.labels_==i]), \n",
    "             color=colorVals[i], linewidth=2)\n",
    "\n",
    "plt.xlabel('Hour')\n",
    "plt.ylabel('State of charge')\n",
    "plt.title('State of charge per EV')\n",
    "\n",
    "\n",
    "#Plot the derivative\n",
    "plt.figure(figsize = (8,8))\n",
    "for i in range(n_clusters):\n",
    "    dy_dx = get_slope(np.array(np.mean(X_rolling[estimator.labels_==i])), x_ticks)\n",
    "    plt.plot(x_ticks[:-1], dy_dx, color=colorVals[i], linewidth=2)\n",
    "    \n",
    "plt.plot(x_ticks[:-1], np.zeros(len(x_ticks[:-1])), color = 'grey')\n",
    "plt.xlabel('Hour')\n",
    "plt.ylabel('Change in state of charge')\n",
    "plt.title('Change in state of charge per EV')\n"
   ]
  },
  {
   "cell_type": "markdown",
   "metadata": {},
   "source": [
    "## Exercise \n",
    "My initial thought was that there would maybe be 2 unique charging patterns, one for commuters, and another for families who use EVs as a 2nd vehicle, or non-commuter vehicle. \n",
    "\n",
    "**Task 1 -** In the above code blocks, adjust the number of clusters to 2 and describe the trends in the two clusters. \n",
    "\n",
    "**Task 2 -** Now adjust the number of clusters to 10. Do you see multiple clusters that show very similar SOC patterns? If so then these can probably be combined, and we can reduce the number of clusters."
   ]
  },
  {
   "cell_type": "code",
   "execution_count": null,
   "metadata": {
    "collapsed": true
   },
   "outputs": [],
   "source": [
    "# Your answers here:\n",
    "\n"
   ]
  },
  {
   "cell_type": "markdown",
   "metadata": {},
   "source": [
    "# Clustering behavior for the whole workweek\n",
    "In the previous section we clustered EV data for a single work day. Now we will look to cluster similar driving and charging behacior for the whole workweek. Each row in 'workweek_soc.csv' contains EV SOC data for the entire workweek rather than a single day. \n",
    "\n",
    "Again I found that 5 clusters seemed to capture the unique charging behavior well. Run the code below to see the workweek clustering results."
   ]
  },
  {
   "cell_type": "code",
   "execution_count": null,
   "metadata": {
    "scrolled": false
   },
   "outputs": [],
   "source": [
    "week_soc = Table.read_table('workweek_soc.csv')\n",
    "week_df = week_soc.drop('driver').to_df()\n",
    "\n",
    "n_clusters=7\n",
    "rolling_window = 6\n",
    "\n",
    "#get color map array\n",
    "jet = plt.get_cmap('jet') \n",
    "cNorm  = colors.Normalize(vmin=0, vmax=n_clusters-1)\n",
    "scalarMap = cmx.ScalarMappable(norm=cNorm, cmap=jet)\n",
    "colorVals = [scalarMap.to_rgba(i) for i in range(n_clusters)]\n",
    "\n",
    "\n",
    "# X_rolling = (pd.rolling_mean(week_df.T,window=rolling_window)[rolling_window-1::]).T\n",
    "X_rolling = week_df.T.rolling(window=rolling_window).mean()[rolling_window-1::].T\n",
    "\n",
    "\n",
    "estimator = KMeans(n_clusters=n_clusters)\n",
    "estimator.fit(X_rolling)\n",
    "\n",
    "    \n",
    "for i in range(n_clusters):\n",
    "    x_ticks = np.arange(rolling_window-1,289*5)/12.\n",
    "    plt.figure()\n",
    "    data = X_rolling[estimator.labels_==i]\n",
    "    n = len(data)\n",
    "    for j in range(data.shape[0]):\n",
    "        plt.plot(x_ticks,data.T[data.index[j]], color=colorVals[i], alpha=.05)\n",
    "    plt.plot(x_ticks,np.mean(data), color=colorVals[i], linewidth=2)\n",
    "    \n",
    "    plt.xlabel('Hour')\n",
    "    plt.ylabel('State of charge')\n",
    "    plt.title('State of charge per EV for a workweek\\n')\n",
    "    textstr = 'N = %i, %.1f%% of vehicles'%(n,float(n*100/len(X_rolling)))\n",
    "    plt.text(7, 1.1, textstr, fontsize=10,verticalalignment='top')\n"
   ]
  },
  {
   "cell_type": "markdown",
   "metadata": {},
   "source": [
    "# Overlaying workweek SOC plots"
   ]
  },
  {
   "cell_type": "code",
   "execution_count": null,
   "metadata": {},
   "outputs": [],
   "source": [
    "plt.figure(figsize=(12,10))\n",
    "for i in range(100):\n",
    "    plt.plot(x_ticks, X_rolling.T[i], color = colorVals[estimator.labels_[i]], alpha=.1)\n",
    "    \n",
    "for i in range(n_clusters):\n",
    "    plt.plot(x_ticks, np.mean(X_rolling[estimator.labels_==i]), color=colorVals[i], linewidth=2)\n",
    "\n",
    "    \n",
    "plt.xlabel('Hour')\n",
    "plt.xlim(0,24*5)\n",
    "plt.ylabel('State of charge')\n",
    "plt.title('State of charge per EV for a workweek')\n"
   ]
  },
  {
   "cell_type": "markdown",
   "metadata": {},
   "source": [
    "## Exercise  \n",
    "\n",
    "**Task -** Come up with a very brief description of the driving/charging behavior for each of the clusters shown above. For example, one such description might be 'Friday chargers' or 'evening chargers'."
   ]
  },
  {
   "cell_type": "code",
   "execution_count": null,
   "metadata": {
    "collapsed": true
   },
   "outputs": [],
   "source": [
    "# Your answer here"
   ]
  }
 ],
 "metadata": {
  "kernelspec": {
   "display_name": "Python 3",
   "language": "python",
   "name": "python3"
  },
  "language_info": {
   "codemirror_mode": {
    "name": "ipython",
    "version": 3
   },
   "file_extension": ".py",
   "mimetype": "text/x-python",
   "name": "python",
   "nbconvert_exporter": "python",
   "pygments_lexer": "ipython3",
   "version": "3.6.2"
  }
 },
 "nbformat": 4,
 "nbformat_minor": 1
}
