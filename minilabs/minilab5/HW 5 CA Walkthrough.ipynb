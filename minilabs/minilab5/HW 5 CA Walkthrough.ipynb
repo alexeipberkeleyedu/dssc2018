{
 "cells": [
  {
   "cell_type": "code",
   "execution_count": 7,
   "metadata": {},
   "outputs": [],
   "source": [
    "from datascience import *\n",
    "import numpy as np\n",
    "import pandas as pd\n",
    "%matplotlib inline"
   ]
  },
  {
   "cell_type": "markdown",
   "metadata": {},
   "source": [
    "### Question 1"
   ]
  },
  {
   "cell_type": "code",
   "execution_count": 107,
   "metadata": {},
   "outputs": [
    {
     "data": {
      "text/html": [
       "<table border=\"1\" class=\"dataframe\">\n",
       "    <thead>\n",
       "        <tr>\n",
       "            <th>origin</th> <th>destination</th> <th>shared ride (2 people)</th> <th>walk-transit-walk</th>\n",
       "        </tr>\n",
       "    </thead>\n",
       "    <tbody>\n",
       "        <tr>\n",
       "            <td>1     </td> <td>110        </td> <td>8.56                  </td> <td>24.5             </td>\n",
       "        </tr>\n",
       "        <tr>\n",
       "            <td>2     </td> <td>110        </td> <td>8.51                  </td> <td>27.5             </td>\n",
       "        </tr>\n",
       "        <tr>\n",
       "            <td>3     </td> <td>110        </td> <td>8.96                  </td> <td>21.88            </td>\n",
       "        </tr>\n",
       "        <tr>\n",
       "            <td>4     </td> <td>110        </td> <td>7.94                  </td> <td>25.8             </td>\n",
       "        </tr>\n",
       "        <tr>\n",
       "            <td>5     </td> <td>110        </td> <td>7.6                   </td> <td>19.27            </td>\n",
       "        </tr>\n",
       "        <tr>\n",
       "            <td>6     </td> <td>110        </td> <td>8.51                  </td> <td>24.73            </td>\n",
       "        </tr>\n",
       "        <tr>\n",
       "            <td>7     </td> <td>110        </td> <td>8.02                  </td> <td>21.99            </td>\n",
       "        </tr>\n",
       "        <tr>\n",
       "            <td>8     </td> <td>110        </td> <td>8.36                  </td> <td>21.56            </td>\n",
       "        </tr>\n",
       "        <tr>\n",
       "            <td>9     </td> <td>110        </td> <td>8.94                  </td> <td>31.8             </td>\n",
       "        </tr>\n",
       "        <tr>\n",
       "            <td>10    </td> <td>110        </td> <td>8.67                  </td> <td>23.83            </td>\n",
       "        </tr>\n",
       "    </tbody>\n",
       "</table>\n",
       "<p>... (361 rows omitted)</p>"
      ],
      "text/plain": [
       "origin | destination | shared ride (2 people) | walk-transit-walk\n",
       "1      | 110         | 8.56                   | 24.5\n",
       "2      | 110         | 8.51                   | 27.5\n",
       "3      | 110         | 8.96                   | 21.88\n",
       "4      | 110         | 7.94                   | 25.8\n",
       "5      | 110         | 7.6                    | 19.27\n",
       "6      | 110         | 8.51                   | 24.73\n",
       "7      | 110         | 8.02                   | 21.99\n",
       "8      | 110         | 8.36                   | 21.56\n",
       "9      | 110         | 8.94                   | 31.8\n",
       "10     | 110         | 8.67                   | 23.83\n",
       "... (361 rows omitted)"
      ]
     },
     "execution_count": 107,
     "metadata": {},
     "output_type": "execute_result"
    }
   ],
   "source": [
    "#This part accounts for all TAZ travel time that arrives at ATT Stadium\n",
    "travel_time_data = Table.read_table('../minilab4/sf_oak_traveltimes_bymode.csv')\n",
    "Metallica = travel_time_data.where(\"destination\", 110)\\\n",
    "    .select(\"origin\", \"destination\", \"shared ride (2 people)\", \"walk-transit-walk\")\n",
    "Metallica"
   ]
  },
  {
   "cell_type": "code",
   "execution_count": 98,
   "metadata": {},
   "outputs": [
    {
     "data": {
      "text/html": [
       "<table border=\"1\" class=\"dataframe\">\n",
       "    <thead>\n",
       "        <tr>\n",
       "            <th>ZONE</th> <th>AGE2044</th> <th>AGE4564</th>\n",
       "        </tr>\n",
       "    </thead>\n",
       "    <tbody>\n",
       "        <tr>\n",
       "            <td>1   </td> <td>27     </td> <td>29     </td>\n",
       "        </tr>\n",
       "        <tr>\n",
       "            <td>2   </td> <td>88     </td> <td>93     </td>\n",
       "        </tr>\n",
       "        <tr>\n",
       "            <td>3   </td> <td>159    </td> <td>169    </td>\n",
       "        </tr>\n",
       "        <tr>\n",
       "            <td>4   </td> <td>46     </td> <td>48     </td>\n",
       "        </tr>\n",
       "        <tr>\n",
       "            <td>5   </td> <td>308    </td> <td>327    </td>\n",
       "        </tr>\n",
       "        <tr>\n",
       "            <td>6   </td> <td>2183   </td> <td>1039   </td>\n",
       "        </tr>\n",
       "        <tr>\n",
       "            <td>7   </td> <td>2474   </td> <td>2052   </td>\n",
       "        </tr>\n",
       "        <tr>\n",
       "            <td>8   </td> <td>2660   </td> <td>3562   </td>\n",
       "        </tr>\n",
       "        <tr>\n",
       "            <td>9   </td> <td>4180   </td> <td>2677   </td>\n",
       "        </tr>\n",
       "        <tr>\n",
       "            <td>10  </td> <td>1216   </td> <td>1152   </td>\n",
       "        </tr>\n",
       "    </tbody>\n",
       "</table>\n",
       "<p>... (1432 rows omitted)</p>"
      ],
      "text/plain": [
       "ZONE | AGE2044 | AGE4564\n",
       "1    | 27      | 29\n",
       "2    | 88      | 93\n",
       "3    | 159     | 169\n",
       "4    | 46      | 48\n",
       "5    | 308     | 327\n",
       "6    | 2183    | 1039\n",
       "7    | 2474    | 2052\n",
       "8    | 2660    | 3562\n",
       "9    | 4180    | 2677\n",
       "10   | 1216    | 1152\n",
       "... (1432 rows omitted)"
      ]
     },
     "execution_count": 98,
     "metadata": {},
     "output_type": "execute_result"
    }
   ],
   "source": [
    "#The population table\n",
    "taz_data = Table.read_table('tazData.csv').where('TOTPOP', are.above(0)).select(\"ZONE\", \"AGE2044\", \"AGE4564\")\n",
    "taz_data"
   ]
  },
  {
   "cell_type": "code",
   "execution_count": 100,
   "metadata": {},
   "outputs": [
    {
     "data": {
      "text/html": [
       "<table border=\"1\" class=\"dataframe\">\n",
       "    <thead>\n",
       "        <tr>\n",
       "            <th>ZONE</th> <th>AGE2044</th> <th>AGE4564</th> <th>destination</th> <th>shared ride (2 people)</th> <th>walk-transit-walk</th>\n",
       "        </tr>\n",
       "    </thead>\n",
       "    <tbody>\n",
       "        <tr>\n",
       "            <td>1   </td> <td>27     </td> <td>29     </td> <td>110        </td> <td>8.56                  </td> <td>24.5             </td>\n",
       "        </tr>\n",
       "        <tr>\n",
       "            <td>2   </td> <td>88     </td> <td>93     </td> <td>110        </td> <td>8.51                  </td> <td>27.5             </td>\n",
       "        </tr>\n",
       "        <tr>\n",
       "            <td>3   </td> <td>159    </td> <td>169    </td> <td>110        </td> <td>8.96                  </td> <td>21.88            </td>\n",
       "        </tr>\n",
       "        <tr>\n",
       "            <td>4   </td> <td>46     </td> <td>48     </td> <td>110        </td> <td>7.94                  </td> <td>25.8             </td>\n",
       "        </tr>\n",
       "        <tr>\n",
       "            <td>5   </td> <td>308    </td> <td>327    </td> <td>110        </td> <td>7.6                   </td> <td>19.27            </td>\n",
       "        </tr>\n",
       "        <tr>\n",
       "            <td>6   </td> <td>2183   </td> <td>1039   </td> <td>110        </td> <td>8.51                  </td> <td>24.73            </td>\n",
       "        </tr>\n",
       "        <tr>\n",
       "            <td>7   </td> <td>2474   </td> <td>2052   </td> <td>110        </td> <td>8.02                  </td> <td>21.99            </td>\n",
       "        </tr>\n",
       "        <tr>\n",
       "            <td>8   </td> <td>2660   </td> <td>3562   </td> <td>110        </td> <td>8.36                  </td> <td>21.56            </td>\n",
       "        </tr>\n",
       "        <tr>\n",
       "            <td>9   </td> <td>4180   </td> <td>2677   </td> <td>110        </td> <td>8.94                  </td> <td>31.8             </td>\n",
       "        </tr>\n",
       "        <tr>\n",
       "            <td>10  </td> <td>1216   </td> <td>1152   </td> <td>110        </td> <td>8.67                  </td> <td>23.83            </td>\n",
       "        </tr>\n",
       "    </tbody>\n",
       "</table>\n",
       "<p>... (360 rows omitted)</p>"
      ],
      "text/plain": [
       "ZONE | AGE2044 | AGE4564 | destination | shared ride (2 people) | walk-transit-walk\n",
       "1    | 27      | 29      | 110         | 8.56                   | 24.5\n",
       "2    | 88      | 93      | 110         | 8.51                   | 27.5\n",
       "3    | 159     | 169     | 110         | 8.96                   | 21.88\n",
       "4    | 46      | 48      | 110         | 7.94                   | 25.8\n",
       "5    | 308     | 327     | 110         | 7.6                    | 19.27\n",
       "6    | 2183    | 1039    | 110         | 8.51                   | 24.73\n",
       "7    | 2474    | 2052    | 110         | 8.02                   | 21.99\n",
       "8    | 2660    | 3562    | 110         | 8.36                   | 21.56\n",
       "9    | 4180    | 2677    | 110         | 8.94                   | 31.8\n",
       "10   | 1216    | 1152    | 110         | 8.67                   | 23.83\n",
       "... (360 rows omitted)"
      ]
     },
     "execution_count": 100,
     "metadata": {},
     "output_type": "execute_result"
    }
   ],
   "source": [
    "#Creates teh table that gives both population and travel time information\n",
    "pop_traffic = taz_data.join(\"ZONE\", Metallica, \"origin\")\n",
    "pop_traffic"
   ]
  },
  {
   "cell_type": "code",
   "execution_count": 102,
   "metadata": {},
   "outputs": [
    {
     "data": {
      "text/plain": [
       "13957.0"
      ]
     },
     "execution_count": 102,
     "metadata": {},
     "output_type": "execute_result"
    }
   ],
   "source": [
    "#Round the answer because people are indivisible!\n",
    "attendees = round(sum(pop_traffic.column(\"AGE2044\")*0.02 + pop_traffic.column(\"AGE4564\")*0.005))\n",
    "attendees"
   ]
  },
  {
   "cell_type": "markdown",
   "metadata": {},
   "source": [
    "### Question 2"
   ]
  },
  {
   "cell_type": "code",
   "execution_count": 113,
   "metadata": {},
   "outputs": [
    {
     "data": {
      "text/html": [
       "<table border=\"1\" class=\"dataframe\">\n",
       "    <thead>\n",
       "        <tr>\n",
       "            <th>ZONE</th> <th>AGE2044</th> <th>AGE4564</th> <th>destination</th> <th>shared ride (2 people)</th> <th>walk-transit-walk</th>\n",
       "        </tr>\n",
       "    </thead>\n",
       "    <tbody>\n",
       "        <tr>\n",
       "            <td>1   </td> <td>27     </td> <td>29     </td> <td>110        </td> <td>33.56                 </td> <td>24.5             </td>\n",
       "        </tr>\n",
       "        <tr>\n",
       "            <td>2   </td> <td>88     </td> <td>93     </td> <td>110        </td> <td>33.51                 </td> <td>27.5             </td>\n",
       "        </tr>\n",
       "        <tr>\n",
       "            <td>3   </td> <td>159    </td> <td>169    </td> <td>110        </td> <td>33.96                 </td> <td>21.88            </td>\n",
       "        </tr>\n",
       "        <tr>\n",
       "            <td>4   </td> <td>46     </td> <td>48     </td> <td>110        </td> <td>32.94                 </td> <td>25.8             </td>\n",
       "        </tr>\n",
       "        <tr>\n",
       "            <td>5   </td> <td>308    </td> <td>327    </td> <td>110        </td> <td>32.6                  </td> <td>19.27            </td>\n",
       "        </tr>\n",
       "        <tr>\n",
       "            <td>6   </td> <td>2183   </td> <td>1039   </td> <td>110        </td> <td>33.51                 </td> <td>24.73            </td>\n",
       "        </tr>\n",
       "        <tr>\n",
       "            <td>7   </td> <td>2474   </td> <td>2052   </td> <td>110        </td> <td>33.02                 </td> <td>21.99            </td>\n",
       "        </tr>\n",
       "        <tr>\n",
       "            <td>8   </td> <td>2660   </td> <td>3562   </td> <td>110        </td> <td>33.36                 </td> <td>21.56            </td>\n",
       "        </tr>\n",
       "        <tr>\n",
       "            <td>9   </td> <td>4180   </td> <td>2677   </td> <td>110        </td> <td>33.94                 </td> <td>31.8             </td>\n",
       "        </tr>\n",
       "        <tr>\n",
       "            <td>10  </td> <td>1216   </td> <td>1152   </td> <td>110        </td> <td>33.67                 </td> <td>23.83            </td>\n",
       "        </tr>\n",
       "    </tbody>\n",
       "</table>\n",
       "<p>... (360 rows omitted)</p>"
      ],
      "text/plain": [
       "ZONE | AGE2044 | AGE4564 | destination | shared ride (2 people) | walk-transit-walk\n",
       "1    | 27      | 29      | 110         | 33.56                  | 24.5\n",
       "2    | 88      | 93      | 110         | 33.51                  | 27.5\n",
       "3    | 159     | 169     | 110         | 33.96                  | 21.88\n",
       "4    | 46      | 48      | 110         | 32.94                  | 25.8\n",
       "5    | 308     | 327     | 110         | 32.6                   | 19.27\n",
       "6    | 2183    | 1039    | 110         | 33.51                  | 24.73\n",
       "7    | 2474    | 2052    | 110         | 33.02                  | 21.99\n",
       "8    | 2660    | 3562    | 110         | 33.36                  | 21.56\n",
       "9    | 4180    | 2677    | 110         | 33.94                  | 31.8\n",
       "10   | 1216    | 1152    | 110         | 33.67                  | 23.83\n",
       "... (360 rows omitted)"
      ]
     },
     "execution_count": 113,
     "metadata": {},
     "output_type": "execute_result"
    }
   ],
   "source": [
    "#Adjusts travel time for driving based on the homework's premises \n",
    "Metallica_adjusted = pop_traffic.with_columns(\"shared ride (2 people)\", pop_traffic.column(\"shared ride (2 people)\")+25)\n",
    "Metallica_adjusted"
   ]
  },
  {
   "cell_type": "code",
   "execution_count": 114,
   "metadata": {},
   "outputs": [],
   "source": [
    "#Creates an array that contains the shortest time to travel to ATT stadium\n",
    "#Other methods that filter out the \"prefer transit\" TAZs are also valid\n",
    "fast = []\n",
    "for i in np.arange(Metallica_adjusted.num_rows):\n",
    "    transit_time = abs(Metallica_adjusted.column(\"walk-transit-walk\").item(i))\n",
    "    drive_time = abs(Metallica_adjusted.column(\"shared ride (2 people)\").item(i))\n",
    "    fast.append(min(transit_time, drive_time))\n"
   ]
  },
  {
   "cell_type": "code",
   "execution_count": 115,
   "metadata": {},
   "outputs": [
    {
     "data": {
      "text/html": [
       "<table border=\"1\" class=\"dataframe\">\n",
       "    <thead>\n",
       "        <tr>\n",
       "            <th>ZONE</th> <th>AGE2044</th> <th>AGE4564</th> <th>destination</th> <th>shared ride (2 people)</th> <th>walk-transit-walk</th> <th>shortest_time</th> <th>drive?</th>\n",
       "        </tr>\n",
       "    </thead>\n",
       "    <tbody>\n",
       "        <tr>\n",
       "            <td>1   </td> <td>27     </td> <td>29     </td> <td>110        </td> <td>33.56                 </td> <td>24.5             </td> <td>24.5         </td> <td>False </td>\n",
       "        </tr>\n",
       "        <tr>\n",
       "            <td>2   </td> <td>88     </td> <td>93     </td> <td>110        </td> <td>33.51                 </td> <td>27.5             </td> <td>27.5         </td> <td>False </td>\n",
       "        </tr>\n",
       "        <tr>\n",
       "            <td>3   </td> <td>159    </td> <td>169    </td> <td>110        </td> <td>33.96                 </td> <td>21.88            </td> <td>21.88        </td> <td>False </td>\n",
       "        </tr>\n",
       "        <tr>\n",
       "            <td>4   </td> <td>46     </td> <td>48     </td> <td>110        </td> <td>32.94                 </td> <td>25.8             </td> <td>25.8         </td> <td>False </td>\n",
       "        </tr>\n",
       "        <tr>\n",
       "            <td>5   </td> <td>308    </td> <td>327    </td> <td>110        </td> <td>32.6                  </td> <td>19.27            </td> <td>19.27        </td> <td>False </td>\n",
       "        </tr>\n",
       "        <tr>\n",
       "            <td>6   </td> <td>2183   </td> <td>1039   </td> <td>110        </td> <td>33.51                 </td> <td>24.73            </td> <td>24.73        </td> <td>False </td>\n",
       "        </tr>\n",
       "        <tr>\n",
       "            <td>7   </td> <td>2474   </td> <td>2052   </td> <td>110        </td> <td>33.02                 </td> <td>21.99            </td> <td>21.99        </td> <td>False </td>\n",
       "        </tr>\n",
       "        <tr>\n",
       "            <td>8   </td> <td>2660   </td> <td>3562   </td> <td>110        </td> <td>33.36                 </td> <td>21.56            </td> <td>21.56        </td> <td>False </td>\n",
       "        </tr>\n",
       "        <tr>\n",
       "            <td>9   </td> <td>4180   </td> <td>2677   </td> <td>110        </td> <td>33.94                 </td> <td>31.8             </td> <td>31.8         </td> <td>False </td>\n",
       "        </tr>\n",
       "        <tr>\n",
       "            <td>10  </td> <td>1216   </td> <td>1152   </td> <td>110        </td> <td>33.67                 </td> <td>23.83            </td> <td>23.83        </td> <td>False </td>\n",
       "        </tr>\n",
       "    </tbody>\n",
       "</table>\n",
       "<p>... (360 rows omitted)</p>"
      ],
      "text/plain": [
       "ZONE | AGE2044 | AGE4564 | destination | shared ride (2 people) | walk-transit-walk | shortest_time | drive?\n",
       "1    | 27      | 29      | 110         | 33.56                  | 24.5              | 24.5          | False\n",
       "2    | 88      | 93      | 110         | 33.51                  | 27.5              | 27.5          | False\n",
       "3    | 159     | 169     | 110         | 33.96                  | 21.88             | 21.88         | False\n",
       "4    | 46      | 48      | 110         | 32.94                  | 25.8              | 25.8          | False\n",
       "5    | 308     | 327     | 110         | 32.6                   | 19.27             | 19.27         | False\n",
       "6    | 2183    | 1039    | 110         | 33.51                  | 24.73             | 24.73         | False\n",
       "7    | 2474    | 2052    | 110         | 33.02                  | 21.99             | 21.99         | False\n",
       "8    | 2660    | 3562    | 110         | 33.36                  | 21.56             | 21.56         | False\n",
       "9    | 4180    | 2677    | 110         | 33.94                  | 31.8              | 31.8          | False\n",
       "10   | 1216    | 1152    | 110         | 33.67                  | 23.83             | 23.83         | False\n",
       "... (360 rows omitted)"
      ]
     },
     "execution_count": 115,
     "metadata": {},
     "output_type": "execute_result"
    }
   ],
   "source": [
    "#Append the shortest travel times to the table\n",
    "Metallica_timed = Metallica_adjusted.with_columns(\"shortest_time\", fast)\n",
    "\n",
    "#Turns the array into an True/False column that indicates whether driving is preferred\n",
    "Metallica_drive = Metallica_timed.with_column(\"drive?\", Metallica_timed.column(\"shared ride (2 people)\") == Metallica_timed.column(\"shortest_time\"))\n",
    "Metallica_drive"
   ]
  },
  {
   "cell_type": "code",
   "execution_count": 116,
   "metadata": {},
   "outputs": [
    {
     "data": {
      "text/html": [
       "<table border=\"1\" class=\"dataframe\">\n",
       "    <thead>\n",
       "        <tr>\n",
       "            <th>origin</th> <th>destination</th> <th>shared ride (2 people)</th>\n",
       "        </tr>\n",
       "    </thead>\n",
       "    <tbody>\n",
       "        <tr>\n",
       "            <td>1     </td> <td>110        </td> <td>2.01                  </td>\n",
       "        </tr>\n",
       "        <tr>\n",
       "            <td>2     </td> <td>110        </td> <td>2.06                  </td>\n",
       "        </tr>\n",
       "        <tr>\n",
       "            <td>3     </td> <td>110        </td> <td>2.23                  </td>\n",
       "        </tr>\n",
       "        <tr>\n",
       "            <td>4     </td> <td>110        </td> <td>1.81                  </td>\n",
       "        </tr>\n",
       "        <tr>\n",
       "            <td>5     </td> <td>110        </td> <td>1.65                  </td>\n",
       "        </tr>\n",
       "        <tr>\n",
       "            <td>6     </td> <td>110        </td> <td>2.03                  </td>\n",
       "        </tr>\n",
       "        <tr>\n",
       "            <td>7     </td> <td>110        </td> <td>1.85                  </td>\n",
       "        </tr>\n",
       "        <tr>\n",
       "            <td>8     </td> <td>110        </td> <td>1.99                  </td>\n",
       "        </tr>\n",
       "        <tr>\n",
       "            <td>9     </td> <td>110        </td> <td>2.2                   </td>\n",
       "        </tr>\n",
       "        <tr>\n",
       "            <td>10    </td> <td>110        </td> <td>2.12                  </td>\n",
       "        </tr>\n",
       "    </tbody>\n",
       "</table>\n",
       "<p>... (361 rows omitted)</p>"
      ],
      "text/plain": [
       "origin | destination | shared ride (2 people)\n",
       "1      | 110         | 2.01\n",
       "2      | 110         | 2.06\n",
       "3      | 110         | 2.23\n",
       "4      | 110         | 1.81\n",
       "5      | 110         | 1.65\n",
       "6      | 110         | 2.03\n",
       "7      | 110         | 1.85\n",
       "8      | 110         | 1.99\n",
       "9      | 110         | 2.2\n",
       "10     | 110         | 2.12\n",
       "... (361 rows omitted)"
      ]
     },
     "execution_count": 116,
     "metadata": {},
     "output_type": "execute_result"
    }
   ],
   "source": [
    "#Get the travel distances for driving--we don't count distances travlled by transit\n",
    "travel_dist_data = Table.read_table('sf_oak_traveldists_bymode.csv').where(\"destination\", 110)\\\n",
    "    .select(\"origin\", \"destination\", \"shared ride (2 people)\")\n",
    "travel_dist_data"
   ]
  },
  {
   "cell_type": "code",
   "execution_count": 117,
   "metadata": {},
   "outputs": [
    {
     "data": {
      "text/html": [
       "<table border=\"1\" class=\"dataframe\">\n",
       "    <thead>\n",
       "        <tr>\n",
       "            <th>ZONE</th> <th>AGE2044</th> <th>AGE4564</th> <th>destination</th> <th>shared ride (2 people)</th> <th>walk-transit-walk</th> <th>shortest_time</th> <th>drive?</th> <th>destination_2</th> <th>shared ride (2 people)_2</th>\n",
       "        </tr>\n",
       "    </thead>\n",
       "    <tbody>\n",
       "        <tr>\n",
       "            <td>1   </td> <td>27     </td> <td>29     </td> <td>110        </td> <td>33.56                 </td> <td>24.5             </td> <td>24.5         </td> <td>False </td> <td>110          </td> <td>2.01                    </td>\n",
       "        </tr>\n",
       "        <tr>\n",
       "            <td>2   </td> <td>88     </td> <td>93     </td> <td>110        </td> <td>33.51                 </td> <td>27.5             </td> <td>27.5         </td> <td>False </td> <td>110          </td> <td>2.06                    </td>\n",
       "        </tr>\n",
       "        <tr>\n",
       "            <td>3   </td> <td>159    </td> <td>169    </td> <td>110        </td> <td>33.96                 </td> <td>21.88            </td> <td>21.88        </td> <td>False </td> <td>110          </td> <td>2.23                    </td>\n",
       "        </tr>\n",
       "        <tr>\n",
       "            <td>4   </td> <td>46     </td> <td>48     </td> <td>110        </td> <td>32.94                 </td> <td>25.8             </td> <td>25.8         </td> <td>False </td> <td>110          </td> <td>1.81                    </td>\n",
       "        </tr>\n",
       "        <tr>\n",
       "            <td>5   </td> <td>308    </td> <td>327    </td> <td>110        </td> <td>32.6                  </td> <td>19.27            </td> <td>19.27        </td> <td>False </td> <td>110          </td> <td>1.65                    </td>\n",
       "        </tr>\n",
       "        <tr>\n",
       "            <td>6   </td> <td>2183   </td> <td>1039   </td> <td>110        </td> <td>33.51                 </td> <td>24.73            </td> <td>24.73        </td> <td>False </td> <td>110          </td> <td>2.03                    </td>\n",
       "        </tr>\n",
       "        <tr>\n",
       "            <td>7   </td> <td>2474   </td> <td>2052   </td> <td>110        </td> <td>33.02                 </td> <td>21.99            </td> <td>21.99        </td> <td>False </td> <td>110          </td> <td>1.85                    </td>\n",
       "        </tr>\n",
       "        <tr>\n",
       "            <td>8   </td> <td>2660   </td> <td>3562   </td> <td>110        </td> <td>33.36                 </td> <td>21.56            </td> <td>21.56        </td> <td>False </td> <td>110          </td> <td>1.99                    </td>\n",
       "        </tr>\n",
       "        <tr>\n",
       "            <td>9   </td> <td>4180   </td> <td>2677   </td> <td>110        </td> <td>33.94                 </td> <td>31.8             </td> <td>31.8         </td> <td>False </td> <td>110          </td> <td>2.2                     </td>\n",
       "        </tr>\n",
       "        <tr>\n",
       "            <td>10  </td> <td>1216   </td> <td>1152   </td> <td>110        </td> <td>33.67                 </td> <td>23.83            </td> <td>23.83        </td> <td>False </td> <td>110          </td> <td>2.12                    </td>\n",
       "        </tr>\n",
       "    </tbody>\n",
       "</table>\n",
       "<p>... (360 rows omitted)</p>"
      ],
      "text/plain": [
       "ZONE | AGE2044 | AGE4564 | destination | shared ride (2 people) | walk-transit-walk | shortest_time | drive? | destination_2 | shared ride (2 people)_2\n",
       "1    | 27      | 29      | 110         | 33.56                  | 24.5              | 24.5          | False  | 110           | 2.01\n",
       "2    | 88      | 93      | 110         | 33.51                  | 27.5              | 27.5          | False  | 110           | 2.06\n",
       "3    | 159     | 169     | 110         | 33.96                  | 21.88             | 21.88         | False  | 110           | 2.23\n",
       "4    | 46      | 48      | 110         | 32.94                  | 25.8              | 25.8          | False  | 110           | 1.81\n",
       "5    | 308     | 327     | 110         | 32.6                   | 19.27             | 19.27         | False  | 110           | 1.65\n",
       "6    | 2183    | 1039    | 110         | 33.51                  | 24.73             | 24.73         | False  | 110           | 2.03\n",
       "7    | 2474    | 2052    | 110         | 33.02                  | 21.99             | 21.99         | False  | 110           | 1.85\n",
       "8    | 2660    | 3562    | 110         | 33.36                  | 21.56             | 21.56         | False  | 110           | 1.99\n",
       "9    | 4180    | 2677    | 110         | 33.94                  | 31.8              | 31.8          | False  | 110           | 2.2\n",
       "10   | 1216    | 1152    | 110         | 33.67                  | 23.83             | 23.83         | False  | 110           | 2.12\n",
       "... (360 rows omitted)"
      ]
     },
     "execution_count": 117,
     "metadata": {},
     "output_type": "execute_result"
    }
   ],
   "source": [
    "#Joins the table with travel distance data\n",
    "Metal_dist = Metallica_drive.join(\"ZONE\", travel_dist_data, \"origin\")\n",
    "Metal_dist"
   ]
  },
  {
   "cell_type": "code",
   "execution_count": 118,
   "metadata": {},
   "outputs": [
    {
     "data": {
      "text/html": [
       "<table border=\"1\" class=\"dataframe\">\n",
       "    <thead>\n",
       "        <tr>\n",
       "            <th>ZONE</th> <th>AGE2044</th> <th>AGE4564</th> <th>destination</th> <th>shared ride (2 people)</th> <th>walk-transit-walk</th> <th>shortest_time</th> <th>drive?</th> <th>destination_2</th> <th>shared ride (2 people)_2</th>\n",
       "        </tr>\n",
       "    </thead>\n",
       "    <tbody>\n",
       "        <tr>\n",
       "            <td>42  </td> <td>4774   </td> <td>827    </td> <td>110        </td> <td>40.04                 </td> <td>48.91            </td> <td>40.04        </td> <td>True  </td> <td>110          </td> <td>5.39                    </td>\n",
       "        </tr>\n",
       "        <tr>\n",
       "            <td>43  </td> <td>2754   </td> <td>1262   </td> <td>110        </td> <td>39.14                 </td> <td>43.62            </td> <td>39.14        </td> <td>True  </td> <td>110          </td> <td>4.42                    </td>\n",
       "        </tr>\n",
       "        <tr>\n",
       "            <td>49  </td> <td>1531   </td> <td>1451   </td> <td>110        </td> <td>37.96                 </td> <td>42.8             </td> <td>37.96        </td> <td>True  </td> <td>110          </td> <td>3.86                    </td>\n",
       "        </tr>\n",
       "        <tr>\n",
       "            <td>50  </td> <td>1841   </td> <td>1161   </td> <td>110        </td> <td>39.29                 </td> <td>40               </td> <td>39.29        </td> <td>True  </td> <td>110          </td> <td>4.42                    </td>\n",
       "        </tr>\n",
       "        <tr>\n",
       "            <td>51  </td> <td>1787   </td> <td>858    </td> <td>110        </td> <td>40.37                 </td> <td>40.93            </td> <td>40.37        </td> <td>True  </td> <td>110          </td> <td>4.89                    </td>\n",
       "        </tr>\n",
       "        <tr>\n",
       "            <td>52  </td> <td>2117   </td> <td>415    </td> <td>110        </td> <td>42.67                 </td> <td>60.25            </td> <td>42.67        </td> <td>True  </td> <td>110          </td> <td>5.69                    </td>\n",
       "        </tr>\n",
       "        <tr>\n",
       "            <td>53  </td> <td>117    </td> <td>50     </td> <td>110        </td> <td>47.64                 </td> <td>53.77            </td> <td>47.64        </td> <td>True  </td> <td>110          </td> <td>5.91                    </td>\n",
       "        </tr>\n",
       "        <tr>\n",
       "            <td>54  </td> <td>2147   </td> <td>2022   </td> <td>110        </td> <td>45.91                 </td> <td>55.17            </td> <td>45.91        </td> <td>True  </td> <td>110          </td> <td>7.67                    </td>\n",
       "        </tr>\n",
       "        <tr>\n",
       "            <td>55  </td> <td>1147   </td> <td>1166   </td> <td>110        </td> <td>44.32                 </td> <td>45.14            </td> <td>44.32        </td> <td>True  </td> <td>110          </td> <td>7.03                    </td>\n",
       "        </tr>\n",
       "        <tr>\n",
       "            <td>56  </td> <td>24     </td> <td>40     </td> <td>110        </td> <td>44.61                 </td> <td>51.27            </td> <td>44.61        </td> <td>True  </td> <td>110          </td> <td>7.07                    </td>\n",
       "        </tr>\n",
       "    </tbody>\n",
       "</table>\n",
       "<p>... (130 rows omitted)</p>"
      ],
      "text/plain": [
       "ZONE | AGE2044 | AGE4564 | destination | shared ride (2 people) | walk-transit-walk | shortest_time | drive? | destination_2 | shared ride (2 people)_2\n",
       "42   | 4774    | 827     | 110         | 40.04                  | 48.91             | 40.04         | True   | 110           | 5.39\n",
       "43   | 2754    | 1262    | 110         | 39.14                  | 43.62             | 39.14         | True   | 110           | 4.42\n",
       "49   | 1531    | 1451    | 110         | 37.96                  | 42.8              | 37.96         | True   | 110           | 3.86\n",
       "50   | 1841    | 1161    | 110         | 39.29                  | 40                | 39.29         | True   | 110           | 4.42\n",
       "51   | 1787    | 858     | 110         | 40.37                  | 40.93             | 40.37         | True   | 110           | 4.89\n",
       "52   | 2117    | 415     | 110         | 42.67                  | 60.25             | 42.67         | True   | 110           | 5.69\n",
       "53   | 117     | 50      | 110         | 47.64                  | 53.77             | 47.64         | True   | 110           | 5.91\n",
       "54   | 2147    | 2022    | 110         | 45.91                  | 55.17             | 45.91         | True   | 110           | 7.67\n",
       "55   | 1147    | 1166    | 110         | 44.32                  | 45.14             | 44.32         | True   | 110           | 7.03\n",
       "56   | 24      | 40      | 110         | 44.61                  | 51.27             | 44.61         | True   | 110           | 7.07\n",
       "... (130 rows omitted)"
      ]
     },
     "execution_count": 118,
     "metadata": {},
     "output_type": "execute_result"
    }
   ],
   "source": [
    "#Filters so that only the TAZs that prefer driving remains\n",
    "drive = Metal_dist.where(\"drive?\", True)\n",
    "drive"
   ]
  },
  {
   "cell_type": "code",
   "execution_count": 119,
   "metadata": {},
   "outputs": [
    {
     "data": {
      "text/plain": [
       "51719.46379999996"
      ]
     },
     "execution_count": 119,
     "metadata": {},
     "output_type": "execute_result"
    }
   ],
   "source": [
    "#VMT_total = number of people who drives to concert * the distance they travel in the vehicle\n",
    "VMT_total = sum((0.02*drive.column(\"AGE2044\") + 0.005*drive.column(\"AGE4564\"))*drive.column(\"shared ride (2 people)_2\"))\n",
    "VMT_total"
   ]
  },
  {
   "cell_type": "code",
   "execution_count": 120,
   "metadata": {},
   "outputs": [
    {
     "data": {
      "text/plain": [
       "25860.0"
      ]
     },
     "execution_count": 120,
     "metadata": {},
     "output_type": "execute_result"
    }
   ],
   "source": [
    "#Divide 2 since everyone is counted twice in a carpool!\n",
    "VMT = round(VMT_total/2)\n",
    "VMT"
   ]
  },
  {
   "cell_type": "code",
   "execution_count": null,
   "metadata": {},
   "outputs": [],
   "source": []
  }
 ],
 "metadata": {
  "kernelspec": {
   "display_name": "Python 3",
   "language": "python",
   "name": "python3"
  },
  "language_info": {
   "codemirror_mode": {
    "name": "ipython",
    "version": 3
   },
   "file_extension": ".py",
   "mimetype": "text/x-python",
   "name": "python",
   "nbconvert_exporter": "python",
   "pygments_lexer": "ipython3",
   "version": "3.6.5"
  }
 },
 "nbformat": 4,
 "nbformat_minor": 2
}
