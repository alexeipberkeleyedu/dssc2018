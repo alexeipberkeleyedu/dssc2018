{
 "cells": [
  {
   "cell_type": "markdown",
   "metadata": {},
   "source": [
    "# Mini-lab 6: Transportation mode choice\n",
    "In homeworks 4/5 we looked at forecasting the number of people who would commute to an event by mode assuming that travel time is the only factor in making a travel decision. \n",
    "\n",
    "**Question 1:** List some of the other factors (besides travel time) that affect travel mode choice."
   ]
  },
  {
   "cell_type": "code",
   "execution_count": null,
   "metadata": {
    "collapsed": true
   },
   "outputs": [],
   "source": [
    "# Q1: Your answer here\n"
   ]
  },
  {
   "cell_type": "markdown",
   "metadata": {},
   "source": [
    "#### \"The California Department of Transportation (Caltrans) conducts the California Household Travel Survey (CHTS) every ten years to obtain detailed information about the socioeconomic characteristics and travel behavior of households statewide.\" -[Caltrans website](http://www.dot.ca.gov/hq/tpp/offices/omsp/statewide_travel_analysis/chts.html)\n",
    "\n",
    "\n",
    "The modechoice.csv file contains data from the CHTS on trips that people living in the bay area actually took. The dataset contains demographic info on the traveler as well as trip origin taz and destination taz. We have combined this data with the inter TAZ travel time/cost data that we used in mini-labs 4 and 5 to provide information on trip cost, time, and distance for all available travel modes.\n",
    "\n",
    "Note that for some trips/some people, not all modes are available. Some people do not have a drivers license or do not have access to a car. Sometimes biking is infeasible due to bike ownership, trip distance or restrictions on biking across bridges. \n",
    "\n",
    "The data in modechoice.csv is as follows:\n",
    "<table>\n",
    "    <tr>\n",
    "        <td>'observation_id'</td>   <td>int id</td>\n",
    "    </tr><tr>\n",
    "        <td>'choice'        </td>   <td>  string mode chosen <li>'drive_alone' - drive alone,<li>'shared_ride_2' - 2 person shared ride,<li>'shared_ride_3' - 3 person shared ride,<li>'walk_transit_walk' - walk tranit walk,<li>'drive_transit_walk' - drive transit walk,<li>'walk_transit_drive' - walk transit drive,<li>'walk' - walk,<li>'bike' - bike </td>\n",
    "    </tr><tr>\n",
    "    <td> 'availability_drive_alone'</td>   <td>1 if available else 0</td>\n",
    "    </tr><tr>\n",
    "    <td> 'availability_shared_ride_2'</td>   <td>1 if available else 0</td>\n",
    "    </tr><tr>\n",
    "    <td> 'availability_shared_ride_3+'</td>   <td>1 if available else 0</td>\n",
    "    </tr><tr>\n",
    "    <td> 'availability_walk_transit_walk'</td>   <td>1 if available else 0</td>\n",
    "    </tr><tr>\n",
    "    <td> 'availability_drive_transit_walk'</td>   <td>1 if available else 0</td>\n",
    "    </tr><tr>\n",
    "    <td> 'availability_walk_transit_drive'</td>   <td>1 if available else 0</td>\n",
    "    </tr><tr>\n",
    "    <td> 'availability_walk'</td>   <td>1 if available else 0</td>\n",
    "    </tr><tr>\n",
    "    <td> 'availability_bicycle'</td>   <td>1 if available else 0</td>\n",
    "    </tr><tr>\n",
    "    <td> 'household_id'</td>   <td>      int\n",
    "    </tr><tr>\n",
    "    <td> 'person_id'</td>   <td>              int\n",
    "    </tr><tr>\n",
    "    <td> 'tour_id'</td>   <td>                 int\n",
    "    </tr><tr>\n",
    "    <td> 'tour_origin_taz'</td>   <td>                   int taz id\n",
    "    </tr><tr>\n",
    "    <td> 'primary_dest_taz'</td>   <td>    int taz id\n",
    "    </tr><tr>\n",
    "    <td> 'age'</td>   <td>          int age in years\n",
    "    </tr><tr>\n",
    "    <td> 'household_size'</td>   <td>                       int, number of people\n",
    "    </tr><tr>\n",
    "    <td> 'household_income'</td>   <td>    int 1-8, 1 = lowest income bracket, 8=highest\n",
    "    </tr><tr>\n",
    "    <td> 'household_income_values'</td>   <td>         int dollar value household income\n",
    "    </tr><tr>\n",
    "    <td> 'transit_subsidy'</td>   <td>   1 if has subsidy, else 0\n",
    "    </tr><tr>\n",
    "    <td> 'transit_subsidy_amount'</td>   <td>           subsidy dollar amount\n",
    "    </tr><tr>\n",
    "    <td> 'cross_bay'</td>   <td>    1 if trip crosses bay, else 0\n",
    "    </tr><tr>\n",
    "    <td> 'total_travel_time_drive_alone'</td>   <td>    door to door travel time in minutes\n",
    "    </tr><tr>\n",
    "    <td> 'total_travel_time_shared_ride_2'</td>   <td> \n",
    "    </tr><tr>\n",
    "    <td> 'total_travel_time_shared_ride_3+'</td>   <td> \n",
    "    </tr><tr>\n",
    "    <td> 'total_travel_time_walk_transit_walk'</td>   <td> \n",
    "    </tr><tr>\n",
    "    <td> 'total_travel_time_drive_transit_walk'</td>   <td> \n",
    "    </tr><tr>\n",
    "    <td> 'total_travel_time_walk_transit_drive'</td>   <td> \n",
    "    </tr><tr>\n",
    "    <td> 'total_travel_time_walk'</td>   <td> \n",
    "    </tr><tr>\n",
    "    <td> 'total_travel_time_bicycle'</td>   <td> \n",
    "    </tr><tr>\n",
    "    <td> 'total_travel_distance_drive_alone' </td>   <td> travel distance in miles\n",
    "    </tr><tr>\n",
    "    <td> 'total_travel_distance_shared_ride_2'</td>   <td> \n",
    "    </tr><tr>\n",
    "    <td> 'total_travel_distance_shared_ride_3+'</td>   <td> \n",
    "    </tr><tr>\n",
    "    <td> 'total_travel_distance_walk'     </td>   <td> \n",
    "    </tr><tr>\n",
    "    <td> 'total_travel_distance_bicycle'</td>   <td> \n",
    "    </tr><tr>\n",
    "    <td> 'total_travel_cost_drive_alone'</td>   <td> travel cost in dollars\n",
    "    </tr><tr>\n",
    "    <td> 'total_travel_cost_shared_ride_2'</td>   <td> Note driving costs include fixed per mile rate divided evenly among passengers, and tolls. Does not include parking and other car ownership related costs\n",
    "    </tr><tr>\n",
    "    <td> 'total_travel_cost_shared_ride_3+'</td>   <td> \n",
    "    </tr><tr>\n",
    "    <td> 'total_travel_cost_walk_transit_walk'</td>   <td> \n",
    "    </tr><tr>\n",
    "    <td> 'total_travel_cost_drive_transit_walk'</td>   <td> \n",
    "    </tr><tr>\n",
    "    <td> 'total_travel_cost_walk_transit_drive'</td>   <td> \n",
    "    </tr><tr>\n",
    "    <td> 'age_ctgry'         <td>  str age category:\n",
    "                                       <li>'0-04' = 0-4 years old,\n",
    "                                       <li>'05-19' = 5-19 years old, \n",
    "                                       <li>'20-44' = 20-44 years old, \n",
    "                                       <li>'45-64' = 45-64 years old, \n",
    "                                       <li>'65+' = 65+ years old, \n",
    "\n",
    "\n"
   ]
  },
  {
   "cell_type": "code",
   "execution_count": null,
   "metadata": {
    "collapsed": true
   },
   "outputs": [],
   "source": [
    "from datascience import *\n",
    "import numpy as np\n",
    "import matplotlib.pyplot as plt\n",
    "%matplotlib inline"
   ]
  },
  {
   "cell_type": "code",
   "execution_count": null,
   "metadata": {},
   "outputs": [],
   "source": [
    "mc = Table.read_table('modechoice.csv')\n",
    "mc"
   ]
  },
  {
   "cell_type": "markdown",
   "metadata": {},
   "source": [
    "## Drive vs. transit travel time comparison\n",
    "\n",
    "As mentioned in HW4, travel time is an important factor in choosing travel mode. Often the  driving travel time is shorter than the travel time to take public transit, yet many people still choose to take public transit. If the travel times are pretty similar people may be inclined to take transit rather than deal with the hassle of driving and parking, etc. \n",
    "\n",
    "In the cell below we will plot a histogram of the delta in travel time between walk-transit-walk and drive alone for trips taken on transit. \n",
    "<ol><li>We identify rows where both drive and walk-transit-walk are available modes <li>Of these travelers with both modes available, we store rows for travelers who took transit in a table <li>We compute *delta travel time* (transit travel time - drive alone travel time) for each group <li>We create a histogram of the results\n",
    "\n"
   ]
  },
  {
   "cell_type": "markdown",
   "metadata": {},
   "source": [
    "**Task 1** Create a histogram of *delta travel times* for people who chose to **drive** rather than take transit and overlay it on the histogram of *delta travel times* for people who chose to take transit.\n",
    "\n",
    "\n",
    "**Question 2:** Comment on the differences in the two histograms. <li> What is the approximate median delta travel time for people who drove? <li>What is the approximate median delta travel time for people who chose to take transit? <li>Which median is higher? Why do you think this is?"
   ]
  },
  {
   "cell_type": "code",
   "execution_count": null,
   "metadata": {},
   "outputs": [],
   "source": [
    "# Get rows where both drive and walk to transit are available\n",
    "transit_drive_avail = mc.where('availability_drive_alone',1).where('availability_walk_transit_walk',1)\n",
    "\n",
    "\n",
    "# Your task: from transit_drive_avail, store the rows where the mode 'choice' is 'walk_transit_walk'\n",
    "# in a table called took_transit\n",
    "took_transit = #Fill this in\n",
    "\n",
    "# Your task: from transit_drive_avail, store the rows where the selected mode 'choice' is 'drive_alone'\n",
    "#Answer key\n",
    "drove = #Fill this in\n",
    "\n",
    "\n",
    "# Compute the difference in travel time (the 'total_travel_time_walk_transit_walk' column-\n",
    "# the 'total_travel_time_drive_alone' column) for people who took transit.\n",
    "#Answer key\n",
    "chose_wtw_tt_delta = #Fill this in \n",
    "\n",
    "# Your task: Compute the difference in travel time (the 'total_travel_time_walk_transit_walk' column-\n",
    "# the 'total_travel_time_drive_alone' column) for people who drove.\n",
    "# Answer key\n",
    "chose_drive_tt_delta = #Fill this in\n",
    "\n",
    "\n",
    "# Create histograms of the differences:\n",
    "my_bins = np.linspace(0,160,16)\n",
    "plt.hist(chose_wtw_tt_delta, alpha=.7, bins=my_bins, label = 'took transit')\n",
    "\n",
    "# Your task: Add the chose_drive_tt_delta histogram here. \n",
    "# Make sure to label it appropriately and use the same bins as transit.\n",
    "#Answer key\n",
    "\n",
    "\n",
    "plt.legend()\n",
    "plt.xlabel('delta travel time (min)')"
   ]
  },
  {
   "cell_type": "code",
   "execution_count": null,
   "metadata": {
    "collapsed": true
   },
   "outputs": [],
   "source": [
    "# Q2: Your answers here"
   ]
  },
  {
   "cell_type": "markdown",
   "metadata": {},
   "source": [
    "## Comparing travel time and cost\n",
    "People are likely not only considering travel time when they select a travel mode, they are probably also considering the cost of each mode. People are more likely to drive if driving is  cheaper than transit or the travel time is significantly lower than public transit. Note driving costs include fixed per mile rate divided evenly among passengers, and tolls. It does not include parking and other car ownership related costs.\n",
    "\n",
    "Below is a scatter plot showing delta travel time (drive time-transit time) on the x-axis vs. delta travel cost (drive cost-transit cost) on the y-axis for people who chose to take transit. \n",
    "\n",
    "**Task 2:** Create a scatter plot of delta travel time vs. delta travel cost for **people who chose to drive**. Make this scatter plot **red** and overlay it on the scatter plot of delta travel time vs. delta travel cost for people who took tranist. \n",
    "\n",
    "**Question 3:** A traveler wants to make a trip from point A to B in SF. The delta travel time is 25 minutes. The delta cost is \\$1.50. Do you think this scatter plot is useful for predicting their travel mode? Why or why not? If you had to choose, based on the scatter plot, what mode would you guess they would take?"
   ]
  },
  {
   "cell_type": "code",
   "execution_count": null,
   "metadata": {},
   "outputs": [],
   "source": [
    "# Compute the cost delta for transit cost vs. drive alone cost for people who took tranist\n",
    "chose_wtw_cost_delta = #Fill this in \n",
    "\n",
    "# Your task: Compute the cost delta for transit cost vs. drive alone cost for people who drove\n",
    "chose_drive_cost_delta = #Fill this in\n",
    "\n",
    "# Create a scatter plot of travel time delta vs. travel cost delta \n",
    "# for people who chose to drive.\n",
    "plt.scatter(chose_wtw_tt_delta, chose_wtw_cost_delta, color='blue', \n",
    "            alpha=.5, label = 'took transit')\n",
    "\n",
    "# Your task: Create a scatter plot of travel time delta vs. travel cost delta \n",
    "# for people who chose to drive. Label it 'drove'.\n",
    "\n",
    "\n",
    "\n",
    "plt.xlabel('delta travel time (min)')\n",
    "plt.ylabel('delta travel cost ($)')\n",
    "plt.legend(shadow=True)\n"
   ]
  },
  {
   "cell_type": "code",
   "execution_count": null,
   "metadata": {
    "collapsed": true
   },
   "outputs": [],
   "source": [
    "# Q3: Your answer here"
   ]
  },
  {
   "cell_type": "markdown",
   "metadata": {},
   "source": [
    "## Bike vs transit travel time comparison\n",
    "If both bicycling and transit are feasible travel options, a traveler may consider the travel time of each mode when making a travel mode decision\n",
    "\n",
    "**Task 3:** Similar to what we did in the drive vs. transit travel time comparison above, compare delta travel time histograms for users who chose bike and users who chose walk to transit. Follow the steps below:\n",
    "<ol><li>Find rows where both bike and walk to transit are available modes <li>Store rows for travelers who biked in one table, and for those who took transit in another <li>Compute delta travel time (transit travel time - bike travel time) for each group <li>Create two overlayed histograms with a legend and appropriate axis labels"
   ]
  },
  {
   "cell_type": "code",
   "execution_count": null,
   "metadata": {},
   "outputs": [],
   "source": [
    "# Your code here:\n"
   ]
  },
  {
   "cell_type": "markdown",
   "metadata": {},
   "source": [
    "## Adding demographic data:\n",
    "Different demographics may have different mode preferences. For example people in the 20-44 may be more likely to bike then people over 65. \n",
    "\n",
    "**Task 4:** Create a [pivot](http://data8.org/datascience/_autosummary/datascience.tables.Table.pivot.html?highlight=pivot#datascience.tables.Table.pivot) table where we count the number of people who choose each mode per age_ctgry. Create a [barh](http://data8.org/datascience/_autosummary/datascience.tables.Table.barh.html#datascience.tables.Table.barh) graph to visualize the results.\n",
    "\n",
    "**Question 4a:** Which age group is most likely to have a shared ride. Which age group shows the strongest preference for drive alone?\n",
    "\n",
    "**Question 4b:** If we knew that the traveler mentioned in question 3 was 53 years old, does your answer to question 3 change? Do you think the traveler is now more likely or less likely to drive than you previously predicted?"
   ]
  },
  {
   "cell_type": "code",
   "execution_count": null,
   "metadata": {},
   "outputs": [],
   "source": [
    "# Your code here:\n"
   ]
  },
  {
   "cell_type": "code",
   "execution_count": null,
   "metadata": {
    "collapsed": true
   },
   "outputs": [],
   "source": [
    "# Q4: Your answers here"
   ]
  }
 ],
 "metadata": {
  "kernelspec": {
   "display_name": "Python 3",
   "language": "python",
   "name": "python3"
  },
  "language_info": {
   "codemirror_mode": {
    "name": "ipython",
    "version": 3
   },
   "file_extension": ".py",
   "mimetype": "text/x-python",
   "name": "python",
   "nbconvert_exporter": "python",
   "pygments_lexer": "ipython3",
   "version": "3.6.2"
  }
 },
 "nbformat": 4,
 "nbformat_minor": 1
}
